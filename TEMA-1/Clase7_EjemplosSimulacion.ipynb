{
 "cells": [
  {
   "cell_type": "markdown",
   "metadata": {},
   "source": [
    "# Clase 7\n",
    "\n",
    "El objetivo con esta sesión es entender las nociones básicas y metodología, para realizar una simulación de algún proceso de nuestra vida cotidiana o profesional. "
   ]
  },
  {
   "cell_type": "markdown",
   "metadata": {},
   "source": [
    "## Etapas para realizar un estudio de simulación\n",
    "\n",
    "> - *Definición del sistema*: determinar la interacción del sistema con otros sistemas, restricciones, interacción e interrelación de variables de interés y los resultados esperados.\n",
    "> - *Formulación de un modelo*: Es necesario definir todas las variables que forman parte del sistema y además definir un diagrama de flujo que describa la forma completa del modelo.\n",
    "> - *Colección de datos*: Definir los datos necesarios para el modelo. Datos pueden provenir de registros contables, órdenes de trabajo, órdenes de compra, opiniones de expertos y si no hay otro remedio por experimentación.\n",
    "> - *Validación*: En esta etapa es posible detectar deficiencias en la formulación del modelo o en los datos sumunistrados al modelo. Formas de validar un modelo son:\n",
    "    - Opinión de expertos.\n",
    "    - Exactitud con que se predicen datos hitóricos.\n",
    "    - Exactitud de la predicción del futuro.\n",
    "    - La aceptación y confianza en el modelo de la persona que hará uso de los resultados que arroje el experimento de simulación.\n",
    "    \n",
    "> - *Experimentación*: La experimentación con el modelo se realiza después de que éste ha sido validado. La experimentación consiste en generar los datos deseados y en realizar el análisis de sensibilidad de los índices requeridos.\n",
    "> - *Interpretación*: Se interpretan los resultados que arroja la simulación y en base a esto se toma una decisión.\n",
    "> - *Documentación*: \n",
    "    - Datos que debe de tener el modelo\n",
    "    - Manual de usurario\n",
    "        "
   ]
  },
  {
   "cell_type": "markdown",
   "metadata": {},
   "source": [
    "# Casos positivos Covid-19"
   ]
  },
  {
   "cell_type": "code",
   "execution_count": 13,
   "metadata": {},
   "outputs": [],
   "source": [
    "# Importación de paquetes\n",
    "import numpy as np\n",
    "import matplotlib.pyplot as plt\n",
    "import pandas as pd\n",
    "import os\n",
    "import scipy.stats as st"
   ]
  },
  {
   "cell_type": "code",
   "execution_count": 5,
   "metadata": {
    "scrolled": true
   },
   "outputs": [
    {
     "data": {
      "text/html": [
       "<div>\n",
       "<style scoped>\n",
       "    .dataframe tbody tr th:only-of-type {\n",
       "        vertical-align: middle;\n",
       "    }\n",
       "\n",
       "    .dataframe tbody tr th {\n",
       "        vertical-align: top;\n",
       "    }\n",
       "\n",
       "    .dataframe thead th {\n",
       "        text-align: right;\n",
       "    }\n",
       "</style>\n",
       "<table border=\"1\" class=\"dataframe\">\n",
       "  <thead>\n",
       "    <tr style=\"text-align: right;\">\n",
       "      <th></th>\n",
       "      <th>date</th>\n",
       "      <th>World</th>\n",
       "      <th>Afghanistan</th>\n",
       "      <th>Albania</th>\n",
       "      <th>Algeria</th>\n",
       "      <th>Andorra</th>\n",
       "      <th>Angola</th>\n",
       "      <th>Anguilla</th>\n",
       "      <th>Antigua and Barbuda</th>\n",
       "      <th>Argentina</th>\n",
       "      <th>...</th>\n",
       "      <th>United States Virgin Islands</th>\n",
       "      <th>Uruguay</th>\n",
       "      <th>Uzbekistan</th>\n",
       "      <th>Vatican</th>\n",
       "      <th>Venezuela</th>\n",
       "      <th>Vietnam</th>\n",
       "      <th>Western Sahara</th>\n",
       "      <th>Yemen</th>\n",
       "      <th>Zambia</th>\n",
       "      <th>Zimbabwe</th>\n",
       "    </tr>\n",
       "  </thead>\n",
       "  <tbody>\n",
       "    <tr>\n",
       "      <th>177</th>\n",
       "      <td>2020-06-25</td>\n",
       "      <td>9400810</td>\n",
       "      <td>29715.0</td>\n",
       "      <td>2114.0</td>\n",
       "      <td>12248.0</td>\n",
       "      <td>855.0</td>\n",
       "      <td>189.0</td>\n",
       "      <td>3.0</td>\n",
       "      <td>65.0</td>\n",
       "      <td>49838.0</td>\n",
       "      <td>...</td>\n",
       "      <td>80.0</td>\n",
       "      <td>902.0</td>\n",
       "      <td>6990.0</td>\n",
       "      <td>12.0</td>\n",
       "      <td>4365.0</td>\n",
       "      <td>352.0</td>\n",
       "      <td>25.0</td>\n",
       "      <td>1015.0</td>\n",
       "      <td>1489.0</td>\n",
       "      <td>530.0</td>\n",
       "    </tr>\n",
       "    <tr>\n",
       "      <th>178</th>\n",
       "      <td>2020-06-26</td>\n",
       "      <td>9582321</td>\n",
       "      <td>30175.0</td>\n",
       "      <td>2192.0</td>\n",
       "      <td>12445.0</td>\n",
       "      <td>855.0</td>\n",
       "      <td>197.0</td>\n",
       "      <td>3.0</td>\n",
       "      <td>65.0</td>\n",
       "      <td>52444.0</td>\n",
       "      <td>...</td>\n",
       "      <td>81.0</td>\n",
       "      <td>907.0</td>\n",
       "      <td>7228.0</td>\n",
       "      <td>12.0</td>\n",
       "      <td>4563.0</td>\n",
       "      <td>352.0</td>\n",
       "      <td>25.0</td>\n",
       "      <td>1076.0</td>\n",
       "      <td>1497.0</td>\n",
       "      <td>551.0</td>\n",
       "    </tr>\n",
       "    <tr>\n",
       "      <th>179</th>\n",
       "      <td>2020-06-27</td>\n",
       "      <td>9771518</td>\n",
       "      <td>30451.0</td>\n",
       "      <td>2269.0</td>\n",
       "      <td>12685.0</td>\n",
       "      <td>855.0</td>\n",
       "      <td>212.0</td>\n",
       "      <td>3.0</td>\n",
       "      <td>65.0</td>\n",
       "      <td>52444.0</td>\n",
       "      <td>...</td>\n",
       "      <td>81.0</td>\n",
       "      <td>919.0</td>\n",
       "      <td>7490.0</td>\n",
       "      <td>12.0</td>\n",
       "      <td>4779.0</td>\n",
       "      <td>353.0</td>\n",
       "      <td>25.0</td>\n",
       "      <td>1089.0</td>\n",
       "      <td>1531.0</td>\n",
       "      <td>561.0</td>\n",
       "    </tr>\n",
       "    <tr>\n",
       "      <th>180</th>\n",
       "      <td>2020-06-28</td>\n",
       "      <td>9952808</td>\n",
       "      <td>30616.0</td>\n",
       "      <td>2330.0</td>\n",
       "      <td>12968.0</td>\n",
       "      <td>855.0</td>\n",
       "      <td>244.0</td>\n",
       "      <td>3.0</td>\n",
       "      <td>65.0</td>\n",
       "      <td>57731.0</td>\n",
       "      <td>...</td>\n",
       "      <td>81.0</td>\n",
       "      <td>924.0</td>\n",
       "      <td>7725.0</td>\n",
       "      <td>12.0</td>\n",
       "      <td>5130.0</td>\n",
       "      <td>354.0</td>\n",
       "      <td>208.0</td>\n",
       "      <td>1103.0</td>\n",
       "      <td>1531.0</td>\n",
       "      <td>567.0</td>\n",
       "    </tr>\n",
       "    <tr>\n",
       "      <th>181</th>\n",
       "      <td>2020-06-29</td>\n",
       "      <td>10112754</td>\n",
       "      <td>30967.0</td>\n",
       "      <td>2402.0</td>\n",
       "      <td>13273.0</td>\n",
       "      <td>855.0</td>\n",
       "      <td>267.0</td>\n",
       "      <td>3.0</td>\n",
       "      <td>65.0</td>\n",
       "      <td>57731.0</td>\n",
       "      <td>...</td>\n",
       "      <td>81.0</td>\n",
       "      <td>929.0</td>\n",
       "      <td>8031.0</td>\n",
       "      <td>12.0</td>\n",
       "      <td>5297.0</td>\n",
       "      <td>355.0</td>\n",
       "      <td>208.0</td>\n",
       "      <td>1118.0</td>\n",
       "      <td>1557.0</td>\n",
       "      <td>567.0</td>\n",
       "    </tr>\n",
       "  </tbody>\n",
       "</table>\n",
       "<p>5 rows × 212 columns</p>\n",
       "</div>"
      ],
      "text/plain": [
       "           date     World  Afghanistan  Albania  Algeria  Andorra  Angola  \\\n",
       "177  2020-06-25   9400810      29715.0   2114.0  12248.0    855.0   189.0   \n",
       "178  2020-06-26   9582321      30175.0   2192.0  12445.0    855.0   197.0   \n",
       "179  2020-06-27   9771518      30451.0   2269.0  12685.0    855.0   212.0   \n",
       "180  2020-06-28   9952808      30616.0   2330.0  12968.0    855.0   244.0   \n",
       "181  2020-06-29  10112754      30967.0   2402.0  13273.0    855.0   267.0   \n",
       "\n",
       "     Anguilla  Antigua and Barbuda  Argentina  ...  \\\n",
       "177       3.0                 65.0    49838.0  ...   \n",
       "178       3.0                 65.0    52444.0  ...   \n",
       "179       3.0                 65.0    52444.0  ...   \n",
       "180       3.0                 65.0    57731.0  ...   \n",
       "181       3.0                 65.0    57731.0  ...   \n",
       "\n",
       "     United States Virgin Islands  Uruguay  Uzbekistan  Vatican  Venezuela  \\\n",
       "177                          80.0    902.0      6990.0     12.0     4365.0   \n",
       "178                          81.0    907.0      7228.0     12.0     4563.0   \n",
       "179                          81.0    919.0      7490.0     12.0     4779.0   \n",
       "180                          81.0    924.0      7725.0     12.0     5130.0   \n",
       "181                          81.0    929.0      8031.0     12.0     5297.0   \n",
       "\n",
       "     Vietnam  Western Sahara   Yemen  Zambia  Zimbabwe  \n",
       "177    352.0            25.0  1015.0  1489.0     530.0  \n",
       "178    352.0            25.0  1076.0  1497.0     551.0  \n",
       "179    353.0            25.0  1089.0  1531.0     561.0  \n",
       "180    354.0           208.0  1103.0  1531.0     567.0  \n",
       "181    355.0           208.0  1118.0  1557.0     567.0  \n",
       "\n",
       "[5 rows x 212 columns]"
      ]
     },
     "execution_count": 5,
     "metadata": {},
     "output_type": "execute_result"
    }
   ],
   "source": [
    "data = pd.read_csv('total_cases.csv')\n"
   ]
  },
  {
   "cell_type": "code",
   "execution_count": 75,
   "metadata": {},
   "outputs": [
    {
     "data": {
      "text/plain": [
       "<matplotlib.axes._subplots.AxesSubplot at 0x7f4c3ca25eb0>"
      ]
     },
     "execution_count": 75,
     "metadata": {},
     "output_type": "execute_result"
    },
    {
     "data": {
      "image/png": "[encoded data removed]",
      "text/plain": [
       "<Figure size 432x288 with 1 Axes>"
      ]
     },
     "metadata": {
      "needs_background": "light"
     },
     "output_type": "display_data"
    }
   ],
   "source": []
  },
  {
   "cell_type": "code",
   "execution_count": 100,
   "metadata": {},
   "outputs": [
    {
     "data": {
      "image/png": "[encoded data removed]",
      "text/plain": [
       "<Figure size 432x288 with 1 Axes>"
      ]
     },
     "metadata": {
      "needs_background": "light"
     },
     "output_type": "display_data"
    }
   ],
   "source": []
  },
  {
   "cell_type": "code",
   "execution_count": 99,
   "metadata": {},
   "outputs": [
    {
     "data": {
      "image/png": "[encoded data removed]",
      "text/plain": [
       "<Figure size 432x288 with 1 Axes>"
      ]
     },
     "metadata": {
      "needs_background": "light"
     },
     "output_type": "display_data"
    }
   ],
   "source": []
  },
  {
   "cell_type": "markdown",
   "metadata": {},
   "source": [
    "## ¿Cómo usaríamos montecarlo para saber en un futuro cuantas personas es probable que se infecten?"
   ]
  },
  {
   "cell_type": "code",
   "execution_count": 104,
   "metadata": {
    "scrolled": true
   },
   "outputs": [
    {
     "data": {
      "text/plain": [
       "array([34684.40028193, 34807.94331614, 33425.8433185 , 34308.83348786,\n",
       "       37392.80847497, 35203.26756244, 34098.27170106])"
      ]
     },
     "execution_count": 104,
     "metadata": {},
     "output_type": "execute_result"
    }
   ],
   "source": [
    "escenarios, fecha_futura = 1000, 7\n"
   ]
  },
  {
   "cell_type": "markdown",
   "metadata": {},
   "source": [
    "# Simular dado cargado"
   ]
  },
  {
   "cell_type": "code",
   "execution_count": 139,
   "metadata": {},
   "outputs": [
    {
     "data": {
      "text/plain": [
       "<BarContainer object of 6 artists>"
      ]
     },
     "execution_count": 139,
     "metadata": {},
     "output_type": "execute_result"
    },
    {
     "data": {
      "image/png": "[encoded data removed]",
      "text/plain": [
       "<Figure size 432x288 with 1 Axes>"
      ]
     },
     "metadata": {
      "needs_background": "light"
     },
     "output_type": "display_data"
    }
   ],
   "source": [
    "np.random.seed(344)\n",
    "n = int(3/.5)\n",
    "p = .5\n",
    "data_cargado = st.binom.rvs(n, p, size=10000)\n",
    "data_cargado[data_cargado == 0] = 1\n",
    "\n",
    "y, x = np.histogram(data_cargado, bins=len(set(data_cargado)) , density=True)\n",
    "plt.bar(np.arange(1,7), y, width=.5)\n"
   ]
  },
  {
   "cell_type": "markdown",
   "metadata": {},
   "source": [
    "# Ejercicio"
   ]
  },
  {
   "cell_type": "markdown",
   "metadata": {},
   "source": [
    "Si el usuario tira cualquier número entre 1 y 50, el casino gana. Si el usuario tira cualquier número entre 51 y 99, el usuario gana. Si el usuario tira 100, pierde."
   ]
  },
  {
   "cell_type": "code",
   "execution_count": null,
   "metadata": {},
   "outputs": [],
   "source": [
    "# Solución"
   ]
  },
  {
   "cell_type": "markdown",
   "metadata": {},
   "source": [
    "# Ejemplo de aplicación- Cafetería Central\n",
    "\n",
    "Premisas para la simulación:\n",
    "- Negocio de alimentos que vende bebidas y alimentos.\n",
    "- Negocio dentro del ITESO.\n",
    "- Negocio en cafetería central.\n",
    "- Tipo de clientes (hombres y mujeres).\n",
    "- Rentabilidad del 60%.\n",
    "\n",
    "## Objetivo\n",
    "Realizar una simulación estimado el tiempo medio que se tardaran los clientes en ser atendidos entre el horario de 6:30 a 1 pm. Además saber el consumo. \n",
    "**Analizar supuestos y limitantes**"
   ]
  },
  {
   "cell_type": "markdown",
   "metadata": {},
   "source": [
    "## Supuestos en simulación\n",
    "Clasificación de clientes: \n",
    "- Mujer  = 1 $\\longrightarrow$ aleatorio < 0.5\n",
    "- Hombre = 0 $\\longrightarrow$ aleatorio $\\geq$ 0.5.\n",
    "\n",
    "Condiciones iniciales:\n",
    "- Tiempo de simulación: 6:30 am - 1:30pm $\\longrightarrow$ T = 7 horas = 25200 seg.\n",
    "- Tiempo de llegada hasta ser atendido: Min=5seg, Max=30seg.\n",
    "- Tiempo que tardan los clientes en ser atendidos:\n",
    "    - Mujer: Min = 1 min= 60seg, Max = 5 min = 300 seg\n",
    "    - Hombre: Min = 40 seg, Max = 2 min= 120 seg\n",
    "- Consumo según el tipo de cliente:\n",
    "    - Mujer: Min = 30 pesos, Max = 100 pesos\n",
    "    - Hombre: Min = 20 pesos, Max = 80 pesos\n"
   ]
  },
  {
   "cell_type": "code",
   "execution_count": 61,
   "metadata": {},
   "outputs": [
    {
     "name": "stdout",
     "output_type": "stream",
     "text": [
      "Los ingresos totales fueron: [433264.598086127, 418011.21485483844, 410302.32893752103, 441328.2695133706, 471097.2583957135]\n",
      "La rentabilidad fue de: [259958.75885168 250806.7289129  246181.39736251 264796.96170802\n",
      " 282658.35503743]\n"
     ]
    }
   ],
   "source": [
    "################## Programa realizado en clase de forma conjunta  de forma ineficiente\n",
    "d = 5\n",
    "T =25200\n",
    "T_at_min = 5; T_at_max = 30\n",
    "T_mujer_min =60; T_mujer_max = 300\n",
    "T_hombre_min = 40; T_hombre_max = 120\n",
    "C_mujer_min = 30; C_mujer_max = 100\n",
    "C_hombre_min = 20; C_hombre_max = 80\n",
    "\n",
    "Personas = np.random.rand(300)\n",
    "# Listas\n",
    "T_atencion = []\n",
    "\n",
    "Can_mujeres = []\n",
    "Can_hombres = []\n",
    "\n",
    "Ganancias = []\n",
    "P_atendidas = []\n",
    "Consu_h = []\n",
    "Consu_m = []\n",
    "# ciclo de los días\n",
    "for j in range(d):\n",
    "    t_atencion = 0 # Tiempo de atención \n",
    "    i = 0 # Personas\n",
    "    N_mujeres = 0 # número de mujeres\n",
    "    N_hombres = 0 # número de hombres\n",
    "    c_hombre = 0  # consumo total hombre\n",
    "    c_mujer = 0  # consumo total mujer\n",
    "    \n",
    "    \n",
    "    # Día de trabajo \n",
    "    while t_atencion <= T:\n",
    "        t_llegada = np.random.uniform(T_at_min,T_at_max)\n",
    "        t_atencion += t_llegada\n",
    "        if Personas[i]<0.5:\n",
    "            t_persona = np.random.uniform(T_mujer_min,T_mujer_max)\n",
    "            t_atencion += t_persona\n",
    "            N_mujeres += 1\n",
    "            c_mujer += np.random.uniform(C_mujer_min,C_mujer_max)\n",
    "        else:\n",
    "            t_persona = np.random.uniform(T_hombre_min,T_hombre_max)\n",
    "            t_atencion += t_persona\n",
    "            N_hombres += 1\n",
    "            c_hombre += np.random.uniform(C_hombre_min,C_hombre_max)\n",
    "        \n",
    "        i += 1\n",
    "        T_atencion.append(t_persona)\n",
    "\n",
    "    Can_mujeres.append(N_mujeres)\n",
    "    Can_hombres.append(N_hombres)\n",
    "\n",
    "    Ganancias.append((c_hombre+c_mujer)*0.6)\n",
    "    P_atendidas.append(i)\n",
    "    Consu_h.append(c_hombre)\n",
    "    Consu_m.append(c_mujer)\n",
    "        \n",
    "# print('Los gastos de hombres en los 5 días fueron:',Consu_h)\n",
    "# print('En promedio los hombres gastaron:',np.mean(Consu_h))\n",
    "# print('Los gastos de mujeres en los 5 días fueron:',Consu_m)\n",
    "# print('En promedio los mujeres gastaron:',np.mean(Consu_m))\n",
    "print('El número de personas atendidas fueron:',np.mean(P_atendidas))\n",
    "# print('En promedio la cantidad de personas atendidas fueron:',np.mean(P_atendidas))\n",
    "# print('El tiempo de atención total fue:',T_atencion)\n",
    "# print('El tiempo de atención promedio fue:',np.mean(T_atencion))\n",
    "# print('Los ingresos totales fueron:',Ganancias)\n",
    "# print('La rentabilidad fue de:',np.array(Ganancias)*.6)\n",
    "# print('La rentabilidad promedio fue:',np.mean(np.array(G_total)*.6))\n",
    "# print('El atención promedio por persona fue:',np.mean(T_atencionPersonas)/60)"
   ]
  },
  {
   "cell_type": "markdown",
   "metadata": {},
   "source": [
    "## Programación funcional y vectorizada"
   ]
  },
  {
   "cell_type": "code",
   "execution_count": 20,
   "metadata": {},
   "outputs": [],
   "source": [
    "# Definición de la función que simula la cafetería del ITESO\n",
    "def SimCafeteria(Personas,T):\n",
    "    # Información suministrada por la cafetería del ITESO\n",
    "#     T = 25200\n",
    "    Tat_min = 5; Tat_max=30\n",
    "    Tmujer_min = 60; Tmujer_max = 150\n",
    "    Thombre_min = 40; Thombre_max = 120\n",
    "    Gmujer_min = 30; Gmujer_max = 100\n",
    "    Ghombre_min = 20; Ghombre_max=80\n",
    "    \n",
    "    # Inicialización de variables usadas para almacenar información solicitada\n",
    "    t_atencion = 0 # Tiempo de atención \n",
    "    i = 0 # Personas\n",
    "    N_mujeres = 0 # número de mujeres\n",
    "    N_hombres = 0 # número de hombres\n",
    "    c_hombre = 0  # consumo total hombre\n",
    "    c_mujer = 0  # consumo total mujer\n",
    "    T_atencion = []   \n",
    "    \n",
    "    # Día de trabajo \n",
    "    while t_atencion <= T:\n",
    "        t_llegada = np.random.uniform(T_at_min,T_at_max)\n",
    "        t_atencion += t_llegada\n",
    "        if Personas[i]<0.5:\n",
    "            t_persona = np.random.uniform(T_mujer_min,T_mujer_max)\n",
    "            t_atencion += t_persona\n",
    "            N_mujeres += 1\n",
    "            c_mujer += np.random.uniform(C_mujer_min,C_mujer_max)\n",
    "        else:\n",
    "            t_persona = np.random.uniform(T_hombre_min,T_hombre_max)\n",
    "            t_atencion += t_persona\n",
    "            N_hombres += 1\n",
    "            c_hombre += np.random.uniform(C_hombre_min,C_hombre_max)\n",
    "        \n",
    "        i += 1\n",
    "        T_atencion.append(t_persona)\n",
    "    \n",
    "    return np.array([N_mujeres,N_hombres,(c_hombre+c_mujer)*0.6,\n",
    "                    i,c_hombre,c_mujer])"
   ]
  }
 ],
 "metadata": {
  "kernelspec": {
   "display_name": "Python 3",
   "language": "python",
   "name": "python3"
  },
  "language_info": {
   "codemirror_mode": {
    "name": "ipython",
    "version": 3
   },
   "file_extension": ".py",
   "mimetype": "text/x-python",
   "name": "python",
   "nbconvert_exporter": "python",
   "pygments_lexer": "ipython3",
   "version": "3.8.3"
  }
 },
 "nbformat": 4,
 "nbformat_minor": 2
}
